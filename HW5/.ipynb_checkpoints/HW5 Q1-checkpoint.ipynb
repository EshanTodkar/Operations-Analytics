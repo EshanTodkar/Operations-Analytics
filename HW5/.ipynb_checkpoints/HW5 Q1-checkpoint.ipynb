{
 "cells": [
  {
   "cell_type": "code",
   "execution_count": 1,
   "id": "fc59d28f",
   "metadata": {},
   "outputs": [
    {
     "name": "stdout",
     "output_type": "stream",
     "text": [
      "Defaulting to user installation because normal site-packages is not writeable\n",
      "Requirement already satisfied: pulp in c:\\users\\eshan\\appdata\\roaming\\python\\python39\\site-packages (2.9.0)\n",
      "Defaulting to user installation because normal site-packages is not writeable\n",
      "Requirement already satisfied: geopy in c:\\users\\eshan\\appdata\\roaming\\python\\python39\\site-packages (2.4.1)\n",
      "Requirement already satisfied: geographiclib<3,>=1.52 in c:\\users\\eshan\\appdata\\roaming\\python\\python39\\site-packages (from geopy) (2.0)\n"
     ]
    }
   ],
   "source": [
    "#Installing required packages\n",
    "\n",
    "!pip install pulp\n",
    "!pip install geopy"
   ]
  },
  {
   "cell_type": "code",
   "execution_count": 2,
   "id": "489e1843",
   "metadata": {},
   "outputs": [
    {
     "data": {
      "text/plain": [
       "['customer', 'candidate']"
      ]
     },
     "execution_count": 2,
     "metadata": {},
     "output_type": "execute_result"
    }
   ],
   "source": [
    "#Loading excel file into python\n",
    "import pandas as pd\n",
    "\n",
    "# Load the Excel file to check its structure\n",
    "file_path = 'toy-stores 1.xlsx'\n",
    "data = pd.ExcelFile(file_path)\n",
    "\n",
    "# Display the sheet names and inspect the content of the first sheet\n",
    "data.sheet_names"
   ]
  },
  {
   "cell_type": "code",
   "execution_count": 3,
   "id": "cc6b429d",
   "metadata": {},
   "outputs": [
    {
     "data": {
      "text/plain": [
       "(       City        Lon       Lat  Demand (pallets)\n",
       " 0  Amarillo  101.81880  35.20350              5893\n",
       " 1    Austin   97.75066  30.30493             18502\n",
       " 2    Dallas   96.76747  32.79315             36936\n",
       " 3   Houston   95.38733  29.76805             63937\n",
       " 4    Irving   96.96934  32.85769              6235,\n",
       "        City        Lon       Lat  Fixed Cost  Capacity\n",
       " 0  Amarillo  101.81880  35.20350    52074720     40000\n",
       " 1    Austin   97.75066  30.30493    34443780     50000\n",
       " 2   El Paso  106.43750  31.84925    41619720     33000\n",
       " 3   Houston   95.38733  29.76805     7411680    100000\n",
       " 4    Laredo   99.48660  27.53430    25876140     27000)"
      ]
     },
     "execution_count": 3,
     "metadata": {},
     "output_type": "execute_result"
    }
   ],
   "source": [
    "# Load and display the content of each sheet to understand the structure\n",
    "customer_data = data.parse('customer')\n",
    "candidate_data = data.parse('candidate')\n",
    "\n",
    "customer_data.head(), candidate_data.head()"
   ]
  },
  {
   "cell_type": "code",
   "execution_count": 4,
   "id": "c5f2c806",
   "metadata": {},
   "outputs": [
    {
     "data": {
      "text/html": [
       "<div>\n",
       "<style scoped>\n",
       "    .dataframe tbody tr th:only-of-type {\n",
       "        vertical-align: middle;\n",
       "    }\n",
       "\n",
       "    .dataframe tbody tr th {\n",
       "        vertical-align: top;\n",
       "    }\n",
       "\n",
       "    .dataframe thead th {\n",
       "        text-align: right;\n",
       "    }\n",
       "</style>\n",
       "<table border=\"1\" class=\"dataframe\">\n",
       "  <thead>\n",
       "    <tr style=\"text-align: right;\">\n",
       "      <th>City</th>\n",
       "      <th>Amarillo</th>\n",
       "      <th>Austin</th>\n",
       "      <th>El Paso</th>\n",
       "      <th>Houston</th>\n",
       "      <th>Laredo</th>\n",
       "    </tr>\n",
       "    <tr>\n",
       "      <th>City</th>\n",
       "      <th></th>\n",
       "      <th></th>\n",
       "      <th></th>\n",
       "      <th></th>\n",
       "      <th></th>\n",
       "    </tr>\n",
       "  </thead>\n",
       "  <tbody>\n",
       "    <tr>\n",
       "      <th>Amarillo</th>\n",
       "      <td>0.000000</td>\n",
       "      <td>412.285735</td>\n",
       "      <td>352.784162</td>\n",
       "      <td>530.184914</td>\n",
       "      <td>546.007972</td>\n",
       "    </tr>\n",
       "    <tr>\n",
       "      <th>Austin</th>\n",
       "      <td>412.285735</td>\n",
       "      <td>0.000000</td>\n",
       "      <td>525.804947</td>\n",
       "      <td>146.383410</td>\n",
       "      <td>217.872962</td>\n",
       "    </tr>\n",
       "    <tr>\n",
       "      <th>Dallas</th>\n",
       "      <td>334.126698</td>\n",
       "      <td>180.976470</td>\n",
       "      <td>569.311538</td>\n",
       "      <td>223.831936</td>\n",
       "      <td>397.076598</td>\n",
       "    </tr>\n",
       "    <tr>\n",
       "      <th>Houston</th>\n",
       "      <td>530.184914</td>\n",
       "      <td>146.383410</td>\n",
       "      <td>672.187986</td>\n",
       "      <td>0.000000</td>\n",
       "      <td>292.668595</td>\n",
       "    </tr>\n",
       "    <tr>\n",
       "      <th>Irving</th>\n",
       "      <td>321.782109</td>\n",
       "      <td>181.813362</td>\n",
       "      <td>557.930198</td>\n",
       "      <td>232.509308</td>\n",
       "      <td>396.377021</td>\n",
       "    </tr>\n",
       "  </tbody>\n",
       "</table>\n",
       "</div>"
      ],
      "text/plain": [
       "City        Amarillo      Austin     El Paso     Houston      Laredo\n",
       "City                                                                \n",
       "Amarillo    0.000000  412.285735  352.784162  530.184914  546.007972\n",
       "Austin    412.285735    0.000000  525.804947  146.383410  217.872962\n",
       "Dallas    334.126698  180.976470  569.311538  223.831936  397.076598\n",
       "Houston   530.184914  146.383410  672.187986    0.000000  292.668595\n",
       "Irving    321.782109  181.813362  557.930198  232.509308  396.377021"
      ]
     },
     "execution_count": 4,
     "metadata": {},
     "output_type": "execute_result"
    }
   ],
   "source": [
    "from geopy.distance import geodesic\n",
    "\n",
    "# Extract relevant data\n",
    "customers = customer_data[['City', 'Lon', 'Lat', 'Demand (pallets)']]\n",
    "candidates = candidate_data[['City', 'Lon', 'Lat', 'Fixed Cost', 'Capacity']]\n",
    "\n",
    "# Initialize a distance matrix\n",
    "distance_matrix = pd.DataFrame(\n",
    "    index=customers['City'], \n",
    "    columns=candidates['City']\n",
    ")\n",
    "\n",
    "# Compute great-circle distances between each customer and candidate DC\n",
    "for customer in customers.itertuples():\n",
    "    for candidate in candidates.itertuples():\n",
    "        customer_coords = (customer.Lat, customer.Lon)\n",
    "        candidate_coords = (candidate.Lat, candidate.Lon)\n",
    "        distance_matrix.at[customer.City, candidate.City] = geodesic(customer_coords, candidate_coords).miles\n",
    "\n",
    "# Convert distances to numeric\n",
    "distance_matrix = distance_matrix.apply(pd.to_numeric)\n",
    "distance_matrix.head()"
   ]
  },
  {
   "cell_type": "code",
   "execution_count": 5,
   "id": "03ba071d",
   "metadata": {},
   "outputs": [
    {
     "data": {
      "text/plain": [
       "({'Amarillo': ['Austin'],\n",
       "  'Austin': ['Laredo'],\n",
       "  'Dallas': ['Austin'],\n",
       "  'Houston': ['Houston'],\n",
       "  'Irving': ['Austin'],\n",
       "  'Laredo': ['Laredo'],\n",
       "  'Pasadena': ['Laredo'],\n",
       "  'San Antonio': ['Houston']},\n",
       " ['Austin', 'Houston', 'Laredo'],\n",
       " 89392207.80855736)"
      ]
     },
     "execution_count": 5,
     "metadata": {},
     "output_type": "execute_result"
    }
   ],
   "source": [
    "from pulp import LpProblem, LpMinimize, LpVariable, lpSum\n",
    "\n",
    "# Create a list of customer and candidate DC names\n",
    "customer_names = customers['City'].tolist()\n",
    "candidate_names = candidates['City'].tolist()\n",
    "\n",
    "# Extract demands, fixed costs, and capacities\n",
    "demands = dict(zip(customers['City'], customers['Demand (pallets)']))\n",
    "fixed_costs = dict(zip(candidates['City'], candidates['Fixed Cost']))\n",
    "capacities = dict(zip(candidates['City'], candidates['Capacity']))\n",
    "\n",
    "# Initialize the optimization problem\n",
    "problem = LpProblem(\"CFLP\", LpMinimize)\n",
    "\n",
    "# Decision variables\n",
    "# x[i][j]: 1 if customer i is assigned to DC j, 0 otherwise\n",
    "x = LpVariable.dicts(\"Assign\", [(i, j) for i in customer_names for j in candidate_names], cat='Binary')\n",
    "\n",
    "# y[j]: 1 if DC j is opened, 0 otherwise\n",
    "y = LpVariable.dicts(\"Open\", candidate_names, cat='Binary')\n",
    "\n",
    "# Objective: Minimize total cost (fixed + transportation)\n",
    "problem += lpSum(\n",
    "    fixed_costs[j] * y[j] + lpSum(demands[i] * distance_matrix.loc[i, j] * x[(i, j)] for i in customer_names) \n",
    "    for j in candidate_names\n",
    ")\n",
    "\n",
    "# Constraints\n",
    "# Each customer is assigned to exactly one DC\n",
    "for i in customer_names:\n",
    "    problem += lpSum(x[(i, j)] for j in candidate_names) == 1\n",
    "\n",
    "# A DC's capacity must not be exceeded\n",
    "for j in candidate_names:\n",
    "    problem += lpSum(demands[i] * x[(i, j)] for i in customer_names) <= capacities[j] * y[j]\n",
    "\n",
    "# Solve the problem\n",
    "problem.solve()\n",
    "\n",
    "# Extract the results\n",
    "assignments = {i: [j for j in candidate_names if x[(i, j)].varValue > 0.5] for i in customer_names}\n",
    "opened_dcs = [j for j in candidate_names if y[j].varValue > 0.5]\n",
    "total_cost = problem.objective.value()\n",
    "\n",
    "assignments, opened_dcs, total_cost"
   ]
  },
  {
   "cell_type": "code",
   "execution_count": null,
   "id": "f7669464",
   "metadata": {},
   "outputs": [],
   "source": [
    "# Solution Summary:\n",
    "# Opened Distribution Centers (DCs):\n",
    "\n",
    "# Austin\n",
    "# Houston\n",
    "# Laredo\n",
    "\n",
    "# Customer Assignments:\n",
    "\n",
    "# Amarillo → Assigned to Austin\n",
    "# Austin → Assigned to Laredo\n",
    "# Dallas → Assigned to Austin\n",
    "# Houston → Assigned to Houston\n",
    "# Irving → Assigned to Austin\n",
    "# Laredo → Assigned to Laredo\n",
    "# Pasadena → Assigned to Laredo\n",
    "# San Antonio → Assigned to Houston\n",
    "\n",
    "# Total Annual Cost: $89,392,207.81"
   ]
  },
  {
   "cell_type": "code",
   "execution_count": null,
   "id": "8f9f853e",
   "metadata": {},
   "outputs": [],
   "source": []
  }
 ],
 "metadata": {
  "kernelspec": {
   "display_name": "Python 3 (ipykernel)",
   "language": "python",
   "name": "python3"
  },
  "language_info": {
   "codemirror_mode": {
    "name": "ipython",
    "version": 3
   },
   "file_extension": ".py",
   "mimetype": "text/x-python",
   "name": "python",
   "nbconvert_exporter": "python",
   "pygments_lexer": "ipython3",
   "version": "3.9.13"
  }
 },
 "nbformat": 4,
 "nbformat_minor": 5
}
